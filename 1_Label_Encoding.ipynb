{
 "cells": [
  {
   "cell_type": "code",
   "execution_count": 22,
   "metadata": {},
   "outputs": [],
   "source": [
    "import numpy as np\n",
    "\n",
    "dataset = [\n",
    "    \"သူမသည် ဖျက်သိမ်း စာကို ဖတ်နေစဉ် မျက်ရည်များ စီးကျလို့ကျလို့ နေသည်။\",\n",
    "    \"အခန်းသည် သူမ မရှိခြင်းကြောင့် တိတ်ဆိတ်မှုတို့ဖြင့် လွှမ်းမိုး စေခဲ့သည်။\",\n",
    "    \"သူသည် အလင်းမရှိသော နေရာတွင် တစ်ယောက်တည်း ထိုင်ပြီး ဝမ်းနည်းမှု၏ အငွေ့အသက်ကို ခံစားနေသည်။\",\n",
    "    \"သူမ၏ နှလုံးသားသည် မပြောလိုက်သော စကားများ၏ နာကျင်မှုကြောင့် ဝမ်းနည်းနေသည်။\",\n",
    "    \"မိုးသည် သူမ၏ စိတ်ခံစားချက်ကို စာနာပြီး ဝမ်းနည်းစွာ ကောင်းကင်မှ မျက်စက်များ အဖြစ် ရွာချပေးလို့ နေသည်။\",\n",
    "\n",
    "    \"သူ၏ အပြုံးက တစ်ခန်းလုံးကို ထွန်းလင်းစေပြီး သူမ၏ နှလုံးသားကို ပူနွေး စေခဲ့သည်။\",\n",
    "    \"သူမနှင့် တွေ့ဆုံတိုင်း ခံစားချက်တို့သည် အိမ်မက် တစ်ခု အလား အလွန်ပင် သာယာလှပလို့ နေသည်။\",\n",
    "    \"အချစ်၏ စွမ်းအားတို့သည် ချစ်သူ နှစ်ဦး ကြားရှိ အကွာအဝေးကို ဖျက်ဆီးပစ်နိုင်သည်။\",\n",
    "    \"အချစ်သည် သက်တမ်းမဲ့ တန်ခိုး တစ်ခု ဖြစ်ပြီး နှလုံးသားများကို နူးညံ့စေသည်။\",\n",
    "    \"အချစ်ကို သန့်ရှင်းစွာ ထိန်းသိမ်းနိုင်ပါက ဘဝ၏ အလှတရားကို ခံစားရမည်။\",\n",
    "\n",
    "    \"သူ၏ လက်သီးကို ကျစ်ကျစ်ဆုတ်ထားပြီး ရန်ငြိုးကို ထိန်းထားရန် ကြိုးစားနေသည်။\",\n",
    "    \"သူမသည် တံခါးကို ပိတ်ချပြီး ဆူညံစွာ အော်ဟစ်လို့ နေသည်။\",\n",
    "    \"သူ၏ မျက်လုံးများတွင် ဒေါသ စိတ်တို့ဖြင့်စိတ်တို့ဖြင့် မီးဟုန်းဟုန်း လောင်နေသည်။\",\n",
    "    \"အငြင်းပွားမှုသည် မာနကြောင့် တိုး၍ တိုး၍ လာသည်။\",\n",
    "    \"သူမ၏ အသံသည် စိတ်ဆိုးမှုကြောင့် တုန်လှုပ်နေပြီး စူးစိမ့် လှသည်။\"\n",
    "]\n",
    "## 0- Sadness, 1- Love, 2- Anger\n",
    "lbls = np.array([0, 0, 0, 0, 0, 1, 1, 1, 1, 1, 2, 2, 2, 2, 2])"
   ]
  },
  {
   "cell_type": "code",
   "execution_count": 23,
   "metadata": {},
   "outputs": [
    {
     "name": "stdout",
     "output_type": "stream",
     "text": [
      "Generated Dictionary: \n",
      "{1: 'ကောင်းကင်မှ', 2: 'ကျစ်ကျစ်ဆုတ်ထားပြီး', 3: 'ကြားရှိ', 4: 'ကြိုးစားနေသည်။', 5: 'ခံစားချက်တို့သည်', 6: 'ခံစားနေသည်။', 7: 'ခံစားရမည်။', 8: 'ချစ်သူ', 9: 'စကားများ၏', 10: 'စာကို', 11: 'စာနာပြီး', 12: 'စိတ်ခံစားချက်ကို', 13: 'စိတ်ဆိုးမှုကြောင့်', 14: 'စိတ်တို့ဖြင့်စိတ်တို့ဖြင့်', 15: 'စီးကျလို့ကျလို့', 16: 'စူးစိမ့်', 17: 'စေခဲ့သည်။', 18: 'စွမ်းအားတို့သည်', 19: 'ဆူညံစွာ', 20: 'တစ်ခန်းလုံးကို', 21: 'တစ်ခု', 22: 'တစ်ယောက်တည်း', 23: 'တန်ခိုး', 24: 'တိတ်ဆိတ်မှုတို့ဖြင့်', 25: 'တိုး၍', 26: 'တုန်လှုပ်နေပြီး', 27: 'တံခါးကို', 28: 'တွေ့ဆုံတိုင်း', 29: 'ထိန်းထားရန်', 30: 'ထိန်းသိမ်းနိုင်ပါက', 31: 'ထိုင်ပြီး', 32: 'ထွန်းလင်းစေပြီး', 33: 'ဒေါသ', 34: 'နာကျင်မှုကြောင့်', 35: 'နူးညံ့စေသည်။', 36: 'နေရာတွင်', 37: 'နေသည်။', 38: 'နှစ်ဦး', 39: 'နှလုံးသားကို', 40: 'နှလုံးသားများကို', 41: 'နှလုံးသားသည်', 42: 'ပိတ်ချပြီး', 43: 'ပူနွေး', 44: 'ဖတ်နေစဉ်', 45: 'ဖျက်ဆီးပစ်နိုင်သည်။', 46: 'ဖျက်သိမ်း', 47: 'ဖြစ်ပြီး', 48: 'ဘဝ၏', 49: 'မပြောလိုက်သော', 50: 'မရှိခြင်းကြောင့်', 51: 'မာနကြောင့်', 52: 'မိုးသည်', 53: 'မီးဟုန်းဟုန်း', 54: 'မျက်စက်များ', 55: 'မျက်ရည်များ', 56: 'မျက်လုံးများတွင်', 57: 'ရန်ငြိုးကို', 58: 'ရွာချပေးလို့', 59: 'လက်သီးကို', 60: 'လာသည်။', 61: 'လောင်နေသည်။', 62: 'လွှမ်းမိုး', 63: 'လှသည်။', 64: 'ဝမ်းနည်းစွာ', 65: 'ဝမ်းနည်းနေသည်။', 66: 'ဝမ်းနည်းမှု၏', 67: 'သက်တမ်းမဲ့', 68: 'သန့်ရှင်းစွာ', 69: 'သာယာလှပလို့', 70: 'သူမ', 71: 'သူမနှင့်', 72: 'သူမသည်', 73: 'သူမ၏', 74: 'သူသည်', 75: 'သူ၏', 76: 'အကွာအဝေးကို', 77: 'အခန်းသည်', 78: 'အချစ်ကို', 79: 'အချစ်သည်', 80: 'အချစ်၏', 81: 'အငြင်းပွားမှုသည်', 82: 'အငွေ့အသက်ကို', 83: 'အပြုံးက', 84: 'အဖြစ်', 85: 'အလင်းမရှိသော', 86: 'အလား', 87: 'အလွန်ပင်', 88: 'အလှတရားကို', 89: 'အသံသည်', 90: 'အိမ်မက်', 91: 'အော်ဟစ်လို့'}\n",
      "Vocab_Size : 91\n",
      "Max Length : 10\n"
     ]
    }
   ],
   "source": [
    "## Step 1: Construct the dictionary programmatically\n",
    "def create_dictionary(dataset):    \n",
    "    unique_words = set()\n",
    "    max_length = 0\n",
    "    for sentence in dataset:\n",
    "        max_length = max(max_length, len(sentence.split()))\n",
    "        for word in sentence.split():\n",
    "            cleaned_word = word.strip('.').lower()\n",
    "            unique_words.add(cleaned_word)\n",
    "    word2idx = {word: idx + 1 for idx, word in enumerate(sorted(unique_words))}\n",
    "    idx2word = {idx+1: word for idx, word in enumerate(sorted(unique_words))}\n",
    "    return word2idx, idx2word, len(idx2word), max_length\n",
    "\n",
    "word2idx, idx2word, vocab_size, max_length = create_dictionary(dataset)\n",
    "print(f\"Generated Dictionary: \\n{idx2word}\")\n",
    "print(f'Vocab_Size : {vocab_size}')\n",
    "print(f'Max Length : {max_length}')"
   ]
  },
  {
   "cell_type": "code",
   "execution_count": 24,
   "metadata": {},
   "outputs": [
    {
     "name": "stdout",
     "output_type": "stream",
     "text": [
      "Original: အခန်းသည် သူမ မရှိခြင်းကြောင့် တိတ်ဆိတ်မှုတို့ဖြင့် လွှမ်းမိုး စေခဲ့သည်။\n",
      "Encoded : [77, 70, 50, 24, 62, 17]\n",
      "Decoded : အခန်းသည် သူမ မရှိခြင်းကြောင့် တိတ်ဆိတ်မှုတို့ဖြင့် လွှမ်းမိုး စေခဲ့သည်။\n"
     ]
    }
   ],
   "source": [
    "## Step 2: Encode the sentences using the generated dictionary\n",
    "def encode_sentence(sentence, word2idx):\n",
    "    return [word2idx.get(word.strip('.').lower(), 0) for word in sentence.split()]\n",
    "\n",
    "## Step 3: Decode the encoded sentences back to original sentences\n",
    "def decode_sentence(encoded_sentence, idx2word):\n",
    "    return ' '.join(idx2word.get(num, '') for num in encoded_sentence)\n",
    "\n",
    "encode = encode_sentence(dataset[1], word2idx)\n",
    "decode = decode_sentence(encode, idx2word)\n",
    "\n",
    "print(f\"Original: {dataset[1]}\")\n",
    "print(f\"Encoded : {encode}\")\n",
    "print(f\"Decoded : {decode}\")"
   ]
  },
  {
   "cell_type": "code",
   "execution_count": 25,
   "metadata": {},
   "outputs": [
    {
     "name": "stdout",
     "output_type": "stream",
     "text": [
      "Padding : [77, 70, 50, 24, 62, 17, 0, 0, 0, 0]\n"
     ]
    }
   ],
   "source": [
    "## Step 4: Padding Sequences\n",
    "def pad_sequences(ls, max_length, padding='pre'):\n",
    "    if padding == 'pre':\n",
    "        return [0] * abs((len(ls) - max_length)) + ls\n",
    "    elif padding == 'post':\n",
    "        return ls + [0] * abs((len(ls) - max_length))\n",
    "\n",
    "print(f\"Padding : {pad_sequences(encode, max_length, padding='post')}\")"
   ]
  },
  {
   "cell_type": "code",
   "execution_count": 33,
   "metadata": {},
   "outputs": [
    {
     "data": {
      "text/plain": [
       "[[72, 46, 10, 44, 55, 15, 37],\n",
       " [77, 70, 50, 24, 62, 17],\n",
       " [74, 85, 36, 22, 31, 66, 82, 6],\n",
       " [73, 41, 49, 9, 34, 65],\n",
       " [52, 73, 12, 11, 64, 1, 54, 84, 58, 37],\n",
       " [75, 83, 20, 32, 73, 39, 43, 17],\n",
       " [71, 28, 5, 90, 21, 86, 87, 69, 37],\n",
       " [80, 18, 8, 38, 3, 76, 45],\n",
       " [79, 67, 23, 21, 47, 40, 35],\n",
       " [78, 68, 30, 48, 88, 7],\n",
       " [75, 59, 2, 57, 29, 4],\n",
       " [72, 27, 42, 19, 91, 37],\n",
       " [75, 56, 33, 14, 53, 61],\n",
       " [81, 51, 25, 25, 60],\n",
       " [73, 89, 13, 26, 16, 63]]"
      ]
     },
     "execution_count": 33,
     "metadata": {},
     "output_type": "execute_result"
    }
   ],
   "source": [
    "## Step 5 : Label Encoding\n",
    "encoded_dataset = [encode_sentence(sentence, word2idx) for sentence in dataset]\n",
    "encoded_dataset"
   ]
  },
  {
   "cell_type": "code",
   "execution_count": 27,
   "metadata": {},
   "outputs": [
    {
     "name": "stdout",
     "output_type": "stream",
     "text": [
      "[[ 0  0  0 72 46 10 44 55 15 37]\n",
      " [ 0  0  0  0 77 70 50 24 62 17]\n",
      " [ 0  0 74 85 36 22 31 66 82  6]\n",
      " [ 0  0  0  0 73 41 49  9 34 65]\n",
      " [52 73 12 11 64  1 54 84 58 37]\n",
      " [ 0  0 75 83 20 32 73 39 43 17]\n",
      " [ 0 71 28  5 90 21 86 87 69 37]\n",
      " [ 0  0  0 80 18  8 38  3 76 45]\n",
      " [ 0  0  0 79 67 23 21 47 40 35]\n",
      " [ 0  0  0  0 78 68 30 48 88  7]\n",
      " [ 0  0  0  0 75 59  2 57 29  4]\n",
      " [ 0  0  0  0 72 27 42 19 91 37]\n",
      " [ 0  0  0  0 75 56 33 14 53 61]\n",
      " [ 0  0  0  0  0 81 51 25 25 60]\n",
      " [ 0  0  0  0 73 89 13 26 16 63]]\n"
     ]
    }
   ],
   "source": [
    "## Label Encoding with Padding\n",
    "padding_encoded_dataset = np.array([pad_sequences(encode, max_length, padding='pre') for encode in encoded_dataset])\n",
    "print(padding_encoded_dataset)"
   ]
  },
  {
   "cell_type": "code",
   "execution_count": 28,
   "metadata": {},
   "outputs": [
    {
     "name": "stdout",
     "output_type": "stream",
     "text": [
      "Cosine Similarity: 0.5874939468288874\n"
     ]
    }
   ],
   "source": [
    "def cosine_similarity(A, B):\n",
    "    dot_product = np.dot(A, B)\n",
    "    norm_A = np.linalg.norm(A)\n",
    "    norm_B = np.linalg.norm(B)\n",
    "    return dot_product / (norm_A * norm_B)\n",
    "\n",
    "similarity = cosine_similarity(padding_encoded_dataset[0], padding_encoded_dataset[1])\n",
    "print(\"Cosine Similarity:\", similarity)"
   ]
  },
  {
   "cell_type": "code",
   "execution_count": 31,
   "metadata": {},
   "outputs": [
    {
     "name": "stdout",
     "output_type": "stream",
     "text": [
      "Predicted Label : Love\n"
     ]
    }
   ],
   "source": [
    "test = \"အချစ်သည် အရာအားလုံးကို နူးညံ့ စေသည်။\"\n",
    "categories = [\"Sadness\", \"Love\", \"Anger\"]\n",
    "\n",
    "encoded_test = encode_sentence(test, word2idx)\n",
    "padding_encoded_test = np.array([pad_sequences(encoded_test, max_length, padding='pre')])\n",
    "preds = [cosine_similarity(source, padding_encoded_test[0]) for source in padding_encoded_dataset]\n",
    "print(f'Predicted Label : {categories[lbls[np.argmax(preds)]]}')"
   ]
  }
 ],
 "metadata": {
  "kernelspec": {
   "display_name": "MyEnv",
   "language": "python",
   "name": "python3"
  },
  "language_info": {
   "codemirror_mode": {
    "name": "ipython",
    "version": 3
   },
   "file_extension": ".py",
   "mimetype": "text/x-python",
   "name": "python",
   "nbconvert_exporter": "python",
   "pygments_lexer": "ipython3",
   "version": "3.10.11"
  }
 },
 "nbformat": 4,
 "nbformat_minor": 2
}
