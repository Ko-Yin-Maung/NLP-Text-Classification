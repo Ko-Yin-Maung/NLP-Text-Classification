{
 "cells": [
  {
   "cell_type": "code",
   "execution_count": 1,
   "metadata": {},
   "outputs": [
    {
     "name": "stdout",
     "output_type": "stream",
     "text": [
      "Encoded Labels: [2 2 2 2 2 1 1 1 1 1 0 0 0 0 0]\n",
      "Classes: ['Anger' 'Love' 'Sadness']\n"
     ]
    }
   ],
   "source": [
    "import numpy as np\n",
    "from sklearn.preprocessing import LabelEncoder\n",
    "\n",
    "dataset = [\n",
    "    \"အမယ်မင်း ၏ ပူဆွေးမှု သည် အကျွန်သူ ၏ ပူဆွေးမှု ပင် ဖြစ်သည်။\",\n",
    "    \"ဝမ်းနည်းခြင်း သည် ကူးစက်လွယ်ပြီး ဝမ်းနည်းခြင်း ကြောင့် ငိုကျွေး ရသည်။\",\n",
    "    \"သောက သည် သောက ကိုသာ ရှာဖွေ တတ်သည်။\",\n",
    "    \"ငိုကျွေး အသံများ အကြား ဝမ်းနည်းမှု ကို တွေ့နေရသည်။\",\n",
    "    \"ဝမ်းနည်းခြင်း ကို မုန်းသည်။ ဝမ်းနည်းခြင်း ကို မလိုလား။\",\n",
    "\n",
    "    \"အချစ် ၏ တန်းခိုး အချစ် ၏ စမ်းအား ဖြင့် တစ်ဝန်းကျင်လုံး ငြိမ်းချမ်း သာယာ အံ့။\",\n",
    "    \"သူမ ကို ချစ်သည်။ အသံလေး အား ချစ်သည်။ ဆံနွယ်လေး လည်း ချစ်သည်။\",\n",
    "    \"အချစ် စစ်သည် သံသယ ကို ကင်းစေသည်။ သံသယ ကို မလိုလား။\",\n",
    "    \"အချစ် ဝန်းကျင် မှာ အချစ် တို့ ပေါက်ဖွားမြဲပင်တည်း။\",\n",
    "    \"သူမ ၏ အပြုံး တစ်ပွင့် သည် ကျွန်ုပ် ၏ အချစ် ကို နီုးထစေသည်။\",\n",
    "\n",
    "    \"မင်း ဒေါသ ထွက်သလို ငါလည်းပဲ ဒေါသ ထွက်တယ်။\",\n",
    "    \"မာန်မာန က ဒေါသ စိတ်ကို နိုးထစေသည်။\",\n",
    "    \"အမိ အသံ မှာ ဒေါသ တွေ တွေ့နေရတယ်။ ဒေါသ ကို ထိန်းပါ။\",\n",
    "    \"ပေါက်ကွဲလွယ်သော ဒေါသ စိတ်ကြောင့် စိတ် ဒုက္ခ ရောက်ရသည်။\",\n",
    "    \"မောဟ ဒေါသ မာန်မာန ကြောင့် စိတ် ၏ ငြိမ်းချမ်းမှု ကို ရှာမရပါ။\"\n",
    "]\n",
    "targets = [\"Sadness\", \"Sadness\", \"Sadness\", \"Sadness\", \"Sadness\", \"Love\", \"Love\", \"Love\", \"Love\", \"Love\", \"Anger\", \"Anger\", \"Anger\", \"Anger\", \"Anger\"]\n",
    "\n",
    "## Label Encoder \n",
    "label_encoder = LabelEncoder() \n",
    "encoded_labels = label_encoder.fit_transform(targets) \n",
    "print(\"Encoded Labels:\", encoded_labels) \n",
    "print(\"Classes:\", label_encoder.classes_) "
   ]
  },
  {
   "cell_type": "code",
   "execution_count": 2,
   "metadata": {},
   "outputs": [],
   "source": [
    "## Custom Bag of Words implementation \n",
    "class CustomCountVectorizer:\n",
    "    def __init__(self):\n",
    "        self.vocabulary_ = {}\n",
    "        self.reverse_vocabulary_ = {}\n",
    "    \n",
    "    def fit(self, dataset):\n",
    "        idx = 0\n",
    "        for sentence in dataset:\n",
    "            for word in sentence.lower().split():\n",
    "                word = word.strip('၊။')\n",
    "                if word not in self.vocabulary_:\n",
    "                    self.vocabulary_[word] = idx\n",
    "                    self.reverse_vocabulary_[idx] = word\n",
    "                    idx += 1\n",
    "    \n",
    "    def transform(self, dataset):\n",
    "        features = np.zeros((len(dataset), len(self.vocabulary_)), dtype=int)\n",
    "        for i, sentence in enumerate(dataset):\n",
    "            for word in sentence.lower().split():\n",
    "                word = word.strip('၊။')\n",
    "                if word in self.vocabulary_:\n",
    "                    features[i][self.vocabulary_[word]] += 1\n",
    "        return features\n",
    "\n",
    "    def fit_transform(self, dataset):\n",
    "        self.fit(dataset)\n",
    "        return self.transform(dataset)"
   ]
  },
  {
   "cell_type": "code",
   "execution_count": 3,
   "metadata": {},
   "outputs": [
    {
     "name": "stdout",
     "output_type": "stream",
     "text": [
      "[[1 2 2 1 1 1 1 0 0 0 0 0 0 0 0 0 0 0 0 0 0 0 0 0 0 0 0 0 0 0 0 0 0 0 0 0\n",
      "  0 0 0 0 0 0 0 0 0 0 0 0 0 0 0 0 0 0 0 0 0 0 0 0 0 0 0 0 0 0 0 0 0 0]\n",
      " [0 0 0 1 0 0 0 2 1 1 1 1 0 0 0 0 0 0 0 0 0 0 0 0 0 0 0 0 0 0 0 0 0 0 0 0\n",
      "  0 0 0 0 0 0 0 0 0 0 0 0 0 0 0 0 0 0 0 0 0 0 0 0 0 0 0 0 0 0 0 0 0 0]\n",
      " [0 0 0 1 0 0 0 0 0 0 0 0 2 1 1 1 0 0 0 0 0 0 0 0 0 0 0 0 0 0 0 0 0 0 0 0\n",
      "  0 0 0 0 0 0 0 0 0 0 0 0 0 0 0 0 0 0 0 0 0 0 0 0 0 0 0 0 0 0 0 0 0 0]\n",
      " [0 0 0 0 0 0 0 0 0 0 1 0 0 0 0 0 1 1 1 1 1 0 0 0 0 0 0 0 0 0 0 0 0 0 0 0\n",
      "  0 0 0 0 0 0 0 0 0 0 0 0 0 0 0 0 0 0 0 0 0 0 0 0 0 0 0 0 0 0 0 0 0 0]\n",
      " [0 0 0 0 0 0 0 2 0 0 0 0 0 0 0 0 0 0 0 2 0 1 1 0 0 0 0 0 0 0 0 0 0 0 0 0\n",
      "  0 0 0 0 0 0 0 0 0 0 0 0 0 0 0 0 0 0 0 0 0 0 0 0 0 0 0 0 0 0 0 0 0 0]]\n"
     ]
    }
   ],
   "source": [
    "## Initialize and fit-transform the custom BOW \n",
    "custom_bow = CustomCountVectorizer() \n",
    "features = custom_bow.fit_transform(dataset) \n",
    "print(features[:5]) "
   ]
  },
  {
   "cell_type": "code",
   "execution_count": 4,
   "metadata": {},
   "outputs": [
    {
     "name": "stdout",
     "output_type": "stream",
     "text": [
      "Vocab Length : 70\n",
      "dict_items([(0, 'အမယ်မင်း'), (1, '၏'), (2, 'ပူဆွေးမှု'), (3, 'သည်'), (4, 'အကျွန်သူ'), (5, 'ပင်'), (6, 'ဖြစ်သည်'), (7, 'ဝမ်းနည်းခြင်း'), (8, 'ကူးစက်လွယ်ပြီး'), (9, 'ကြောင့်'), (10, 'ငိုကျွေး'), (11, 'ရသည်'), (12, 'သောက'), (13, 'ကိုသာ'), (14, 'ရှာဖွေ'), (15, 'တတ်သည်'), (16, 'အသံများ'), (17, 'အကြား'), (18, 'ဝမ်းနည်းမှု'), (19, 'ကို'), (20, 'တွေ့နေရသည်'), (21, 'မုန်းသည်'), (22, 'မလိုလား'), (23, 'အချစ်'), (24, 'တန်းခိုး'), (25, 'စမ်းအား'), (26, 'ဖြင့်'), (27, 'တစ်ဝန်းကျင်လုံး'), (28, 'ငြိမ်းချမ်း'), (29, 'သာယာ'), (30, 'အံ့'), (31, 'သူမ'), (32, 'ချစ်သည်'), (33, 'အသံလေး'), (34, 'အား'), (35, 'ဆံနွယ်လေး'), (36, 'လည်း'), (37, 'စစ်သည်'), (38, 'သံသယ'), (39, 'ကင်းစေသည်'), (40, 'ဝန်းကျင်'), (41, 'မှာ'), (42, 'တို့'), (43, 'ပေါက်ဖွားမြဲပင်တည်း'), (44, 'အပြုံး'), (45, 'တစ်ပွင့်'), (46, 'ကျွန်ုပ်'), (47, 'နီုးထစေသည်'), (48, 'မင်း'), (49, 'ဒေါသ'), (50, 'ထွက်သလို'), (51, 'ငါလည်းပဲ'), (52, 'ထွက်တယ်'), (53, 'မာန်မာန'), (54, 'က'), (55, 'စိတ်ကို'), (56, 'နိုးထစေသည်'), (57, 'အမိ'), (58, 'အသံ'), (59, 'တွေ'), (60, 'တွေ့နေရတယ်'), (61, 'ထိန်းပါ'), (62, 'ပေါက်ကွဲလွယ်သော'), (63, 'စိတ်ကြောင့်'), (64, 'စိတ်'), (65, 'ဒုက္ခ'), (66, 'ရောက်ရသည်'), (67, 'မောဟ'), (68, 'ငြိမ်းချမ်းမှု'), (69, 'ရှာမရပါ')])\n"
     ]
    }
   ],
   "source": [
    "## Print Vocabulary Length and Unique Words \n",
    "print(f'Vocab Length : {len(custom_bow.vocabulary_)}') \n",
    "print(custom_bow.reverse_vocabulary_.items()) "
   ]
  },
  {
   "cell_type": "code",
   "execution_count": 5,
   "metadata": {},
   "outputs": [
    {
     "name": "stdout",
     "output_type": "stream",
     "text": [
      "Original Sample : မင်း ဒေါသ ထွက်သလို ငါလည်းပဲ ဒေါသ ထွက်တယ်။\n",
      "BOW Feature : [0 0 0 0 0 0 0 0 0 0 0 0 0 0 0 0 0 0 0 0 0 0 0 0 0 0 0 0 0 0 0 0 0 0 0 0 0\n",
      " 0 0 0 0 0 0 0 0 0 0 0 1 2 1 1 1 0 0 0 0 0 0 0 0 0 0 0 0 0 0 0 0 0]\n"
     ]
    }
   ],
   "source": [
    "## Print BOW Feature Encoding for the 10th sample \n",
    "print(f'Original Sample : {dataset[10]}') \n",
    "print(f'BOW Feature : {features[10]}') "
   ]
  },
  {
   "cell_type": "code",
   "execution_count": 6,
   "metadata": {},
   "outputs": [
    {
     "name": "stdout",
     "output_type": "stream",
     "text": [
      "Test Sentence: သူမ ကို ချစ်သည်။ သူမ နှင့်မှ အချစ် ကို ခံစားမိသည်။\n",
      "BOW Feature: [0 0 0 0 0 0 0 0 0 0 0 0 0 0 0 0 0 0 0 2 0 0 0 1 0 0 0 0 0 0 0 2 1 0 0 0 0\n",
      " 0 0 0 0 0 0 0 0 0 0 0 0 0 0 0 0 0 0 0 0 0 0 0 0 0 0 0 0 0 0 0 0 0]\n"
     ]
    }
   ],
   "source": [
    "## Test sentence \n",
    "test_sentence = [\"သူမ ကို ချစ်သည်။ သူမ နှင့်မှ အချစ် ကို ခံစားမိသည်။\"] \n",
    "test_features = custom_bow.transform(test_sentence) \n",
    "print(f'Test Sentence: {test_sentence[0]}') \n",
    "print(f'BOW Feature: {test_features[0]}') "
   ]
  },
  {
   "cell_type": "code",
   "execution_count": 7,
   "metadata": {},
   "outputs": [
    {
     "name": "stdout",
     "output_type": "stream",
     "text": [
      "Cosine Similarity: 0.18257418583505536\n"
     ]
    }
   ],
   "source": [
    "## Classifier \n",
    "def cosine_similarity(A, B): \n",
    "    dot_product = np.dot(A, B) \n",
    "    norm_A = np.linalg.norm(A) \n",
    "    norm_B = np.linalg.norm(B) \n",
    "    return dot_product / (norm_A * norm_B) \n",
    "similarity = cosine_similarity(features[11], features[13]) \n",
    "print(\"Cosine Similarity:\", similarity) "
   ]
  },
  {
   "cell_type": "code",
   "execution_count": 8,
   "metadata": {},
   "outputs": [
    {
     "name": "stdout",
     "output_type": "stream",
     "text": [
      "Predicted Label : Anger\n"
     ]
    }
   ],
   "source": [
    "## Inference \n",
    "test = [\"မင်း ဒေါသ တွေကို ထိန်းစမ်းပါ။\"] \n",
    "encoded_test = custom_bow.transform(test) \n",
    "preds = [cosine_similarity(source, encoded_test[0]) for source in features] \n",
    "idx = encoded_labels[np.argmax(preds)] \n",
    "print(f'Predicted Label : {label_encoder.classes_[idx]}')"
   ]
  }
 ],
 "metadata": {
  "kernelspec": {
   "display_name": "MyEnv",
   "language": "python",
   "name": "python3"
  },
  "language_info": {
   "codemirror_mode": {
    "name": "ipython",
    "version": 3
   },
   "file_extension": ".py",
   "mimetype": "text/x-python",
   "name": "python",
   "nbconvert_exporter": "python",
   "pygments_lexer": "ipython3",
   "version": "3.10.11"
  }
 },
 "nbformat": 4,
 "nbformat_minor": 2
}
