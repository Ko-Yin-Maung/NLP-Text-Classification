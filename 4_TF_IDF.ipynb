{
 "cells": [
  {
   "cell_type": "code",
   "execution_count": 33,
   "metadata": {},
   "outputs": [
    {
     "name": "stdout",
     "output_type": "stream",
     "text": [
      "Dataset Length : 15\n",
      "Tokenized Text(1-5) : [['မြန်မာ', 'ပြည်', 'ရှေ့ရေး', 'အကြောင်း', 'ဆွေးနွေးသွားတာ', 'အရမ်း', 'ကောင်းတယ်'], ['အရမ်း', 'မှန်တဲ့', 'စကားတွေပါ', 'ကျေးဇူး', 'တင်ပါတယ်'], ['တန်ဖိုး', 'ရှိတဲ့', 'စကားတွေပါ', 'လေးစားပါတယ်'], ['သုံးသပ်သွားတာ', 'ကောင်းလိုက်တာ', 'အရမ်း', 'ဗဟုသုတ', 'ရတယ်'], ['ကျေးဇူးပါ', 'ဆရာ', 'သုံးသပ်ချက်', 'တွေကို', 'ကျေနပ်', 'အားရပါတယ်']]\n"
     ]
    }
   ],
   "source": [
    "from collections import Counter \n",
    "from sklearn.preprocessing import LabelEncoder \n",
    "import numpy as np \n",
    "import math \n",
    "\n",
    "## Dataset preparation \n",
    "dataset = [ \n",
    "    \"မြန်မာ ပြည် ရှေ့ရေး အကြောင်း ဆွေးနွေးသွားတာ အရမ်း ကောင်းတယ်။\", \n",
    "    \"အရမ်း မှန်တဲ့ စကားတွေပါ။ ကျေးဇူး တင်ပါတယ်။\", \n",
    "    \"တန်ဖိုး ရှိတဲ့ စကားတွေပါ။ လေးစားပါတယ်။\", \n",
    "    \"သုံးသပ်သွားတာ ကောင်းလိုက်တာ။ အရမ်း ဗဟုသုတ ရတယ်။\", \n",
    "    \"ကျေးဇူးပါ ဆရာ သုံးသပ်ချက် တွေကို ကျေနပ် အားရပါတယ်။\", \n",
    "\n",
    "    \"မင်းဆိုး မင်းညစ် အယုတ်တမာ ကျဆုံးမှာပါ။\", \n",
    "    \"ကလိမ်ကကျစ် နဲ့ စကား ကို ဝေ့ဝိုက်ပြီး ပြောနေတယ်။\", \n",
    "    \"မိုက်ရိုက်လိုက်တဲ့ လုပ်ရပ်ဗျာ။ အတော် ဆိုးတာပဲ။\", \n",
    "    \"ကျက်သရေ တုံးပါကွာ။ အရည်အချင်းကို မရှိဘူး။\", \n",
    "    \"မင်းကို မြင်ရတာ စိတ် ကသိကအောက် ဖြစ်တယ်။\", \n",
    "\n",
    "    \"ပြည်ထောင်စု သမ္မတ မြန်မာ နိုင်ငံတော် ထာဝရ တည်တံ့နိုင်ပါစေ။\", \n",
    "    \"ပြည်ထောင်စု ဖွား တိုင်းရင်းသားတွေ စုစည်းနေရင် အရမ်း ကောင်းမှာပဲ။\", \n",
    "    \"စစ်ပွဲတွေ ကို မုန်းလိုက်တာ ဗျာ။\", \n",
    "    \"စာသင်ကျောင်း တံခါးများ အမြဲတမ်း ဖွင့်ထားနိုင်ပါစေ။\", \n",
    "    \"ရခိုင် မုန့်တီ၊ ရှမ်း ခေါက်ဆွဲ နဲ့ ကရင် ကုတိယို ကို အရမ်း ကြိုက်တယ်။\" \n",
    "] \n",
    "targets = [\"Positive\", \"Positive\", \"Positive\", \"Positive\", \"Positive\", \n",
    "\"Negative\", \"Negative\", \"Negative\", \"Negative\", \"Negative\", \"Neutral\", \n",
    "\"Neutral\", \"Neutral\", \"Neutral\", \"Neutral\"] \n",
    "\n",
    "## Tokenization \n",
    "tokenized_dataset = [doc.replace('၊', '').replace('။', '').lower().split() for doc in dataset]\n",
    "print(f'Dataset Length : {len(tokenized_dataset)}') \n",
    "print(f'Tokenized Text(1-5) : {tokenized_dataset[:5]}') "
   ]
  },
  {
   "cell_type": "code",
   "execution_count": 34,
   "metadata": {},
   "outputs": [
    {
     "name": "stdout",
     "output_type": "stream",
     "text": [
      "Encoded Labels: [2 2 2 2 2 0 0 0 0 0 1 1 1 1 1]\n",
      "Classes: ['Negative' 'Neutral' 'Positive']\n"
     ]
    }
   ],
   "source": [
    "## Label Encoder \n",
    "label_encoder = LabelEncoder() \n",
    "encoded_labels = label_encoder.fit_transform(targets) \n",
    "print(\"Encoded Labels:\", encoded_labels) \n",
    "print(\"Classes:\", label_encoder.classes_) "
   ]
  },
  {
   "cell_type": "code",
   "execution_count": 35,
   "metadata": {},
   "outputs": [],
   "source": [
    "## TF-IDF Calculation\n",
    "def compute_tf(doc):\n",
    "    term_count = Counter(doc)\n",
    "    doc_len = len(doc)\n",
    "    tf = {term: count / doc_len for term, count in term_count.items()}\n",
    "    return tf\n",
    "\n",
    "def compute_df(corpus):\n",
    "    df = Counter()\n",
    "    for doc in corpus:\n",
    "        unique_terms = set(doc)\n",
    "        for term in unique_terms:\n",
    "            df[term] += 1\n",
    "    return df\n",
    "\n",
    "def compute_idf(df, corpus_size):\n",
    "    idf = {term: math.log(corpus_size / df[term]) for term in df}\n",
    "    return idf\n",
    "\n",
    "def compute_tfidf(tf, idf):\n",
    "    tfidf = {term: tf_val * idf.get(term, 0.0) for term, tf_val in tf.items()}\n",
    "    return tfidf"
   ]
  },
  {
   "cell_type": "code",
   "execution_count": 36,
   "metadata": {},
   "outputs": [
    {
     "name": "stdout",
     "output_type": "stream",
     "text": [
      "TF of index 0 : {'မြန်မာ': 0.14285714285714285, 'ပြည်': 0.14285714285714285, 'ရှေ့ရေး': 0.14285714285714285, 'အကြောင်း': 0.14285714285714285, 'ဆွေးနွေးသွားတာ': 0.14285714285714285, 'အရမ်း': 0.14285714285714285, 'ကောင်းတယ်': 0.14285714285714285}\n"
     ]
    }
   ],
   "source": [
    "## Calculate TF for the entire corpus\n",
    "tf_dataset = [compute_tf(doc) for doc in tokenized_dataset]\n",
    "print(f'TF of index 0 : {tf_dataset[0]}')"
   ]
  },
  {
   "cell_type": "code",
   "execution_count": 37,
   "metadata": {},
   "outputs": [
    {
     "name": "stdout",
     "output_type": "stream",
     "text": [
      "DF for the entire corpus : Counter({'အရမ်း': 5, 'ကို': 3, 'မြန်မာ': 2, 'စကားတွေပါ': 2, 'နဲ့': 2, 'ပြည်ထောင်စု': 2, 'ပြည်': 1, 'အကြောင်း': 1, 'ဆွေးနွေးသွားတာ': 1, 'ရှေ့ရေး': 1, 'ကောင်းတယ်': 1, 'မှန်တဲ့': 1, 'တင်ပါတယ်': 1, 'ကျေးဇူး': 1, 'တန်ဖိုး': 1, 'လေးစားပါတယ်': 1, 'ရှိတဲ့': 1, 'သုံးသပ်သွားတာ': 1, 'ဗဟုသုတ': 1, 'ရတယ်': 1, 'ကောင်းလိုက်တာ': 1, 'ကျေးဇူးပါ': 1, 'ကျေနပ်': 1, 'အားရပါတယ်': 1, 'တွေကို': 1, 'ဆရာ': 1, 'သုံးသပ်ချက်': 1, 'ကျဆုံးမှာပါ': 1, 'မင်းဆိုး': 1, 'မင်းညစ်': 1, 'အယုတ်တမာ': 1, 'ကလိမ်ကကျစ်': 1, 'ဝေ့ဝိုက်ပြီး': 1, 'ပြောနေတယ်': 1, 'စကား': 1, 'အတော်': 1, 'လုပ်ရပ်ဗျာ': 1, 'မိုက်ရိုက်လိုက်တဲ့': 1, 'ဆိုးတာပဲ': 1, 'အရည်အချင်းကို': 1, 'ကျက်သရေ': 1, 'တုံးပါကွာ': 1, 'မရှိဘူး': 1, 'မြင်ရတာ': 1, 'စိတ်': 1, 'ဖြစ်တယ်': 1, 'မင်းကို': 1, 'ကသိကအောက်': 1, 'နိုင်ငံတော်': 1, 'ထာဝရ': 1, 'တည်တံ့နိုင်ပါစေ': 1, 'သမ္မတ': 1, 'စုစည်းနေရင်': 1, 'တိုင်းရင်းသားတွေ': 1, 'ဖွား': 1, 'ကောင်းမှာပဲ': 1, 'စစ်ပွဲတွေ': 1, 'ဗျာ': 1, 'မုန်းလိုက်တာ': 1, 'ဖွင့်ထားနိုင်ပါစေ': 1, 'အမြဲတမ်း': 1, 'စာသင်ကျောင်း': 1, 'တံခါးများ': 1, 'ရခိုင်': 1, 'ရှမ်း': 1, 'ကုတိယို': 1, 'ခေါက်ဆွဲ': 1, 'ကြိုက်တယ်': 1, 'မုန့်တီ': 1, 'ကရင်': 1})\n"
     ]
    }
   ],
   "source": [
    "## Calculate DF for the entire corpus\n",
    "df = compute_df(tokenized_dataset)\n",
    "print(f'DF for the entire corpus : {df}')"
   ]
  },
  {
   "cell_type": "code",
   "execution_count": 38,
   "metadata": {},
   "outputs": [
    {
     "name": "stdout",
     "output_type": "stream",
     "text": [
      "IDF for entire corpus : dict_items([('ပြည်', 2.70805020110221), ('အကြောင်း', 2.70805020110221), ('အရမ်း', 1.0986122886681098), ('ဆွေးနွေးသွားတာ', 2.70805020110221), ('ရှေ့ရေး', 2.70805020110221), ('ကောင်းတယ်', 2.70805020110221), ('မြန်မာ', 2.0149030205422647), ('မှန်တဲ့', 2.70805020110221), ('စကားတွေပါ', 2.0149030205422647), ('တင်ပါတယ်', 2.70805020110221), ('ကျေးဇူး', 2.70805020110221), ('တန်ဖိုး', 2.70805020110221), ('လေးစားပါတယ်', 2.70805020110221), ('ရှိတဲ့', 2.70805020110221), ('သုံးသပ်သွားတာ', 2.70805020110221), ('ဗဟုသုတ', 2.70805020110221), ('ရတယ်', 2.70805020110221), ('ကောင်းလိုက်တာ', 2.70805020110221), ('ကျေးဇူးပါ', 2.70805020110221), ('ကျေနပ်', 2.70805020110221), ('အားရပါတယ်', 2.70805020110221), ('တွေကို', 2.70805020110221), ('ဆရာ', 2.70805020110221), ('သုံးသပ်ချက်', 2.70805020110221), ('ကျဆုံးမှာပါ', 2.70805020110221), ('မင်းဆိုး', 2.70805020110221), ('မင်းညစ်', 2.70805020110221), ('အယုတ်တမာ', 2.70805020110221), ('ကို', 1.6094379124341003), ('ကလိမ်ကကျစ်', 2.70805020110221), ('ဝေ့ဝိုက်ပြီး', 2.70805020110221), ('ပြောနေတယ်', 2.70805020110221), ('နဲ့', 2.0149030205422647), ('စကား', 2.70805020110221), ('အတော်', 2.70805020110221), ('လုပ်ရပ်ဗျာ', 2.70805020110221), ('မိုက်ရိုက်လိုက်တဲ့', 2.70805020110221), ('ဆိုးတာပဲ', 2.70805020110221), ('အရည်အချင်းကို', 2.70805020110221), ('ကျက်သရေ', 2.70805020110221), ('တုံးပါကွာ', 2.70805020110221), ('မရှိဘူး', 2.70805020110221), ('မြင်ရတာ', 2.70805020110221), ('စိတ်', 2.70805020110221), ('ဖြစ်တယ်', 2.70805020110221), ('မင်းကို', 2.70805020110221), ('ကသိကအောက်', 2.70805020110221), ('နိုင်ငံတော်', 2.70805020110221), ('ထာဝရ', 2.70805020110221), ('ပြည်ထောင်စု', 2.0149030205422647), ('တည်တံ့နိုင်ပါစေ', 2.70805020110221), ('သမ္မတ', 2.70805020110221), ('စုစည်းနေရင်', 2.70805020110221), ('တိုင်းရင်းသားတွေ', 2.70805020110221), ('ဖွား', 2.70805020110221), ('ကောင်းမှာပဲ', 2.70805020110221), ('စစ်ပွဲတွေ', 2.70805020110221), ('ဗျာ', 2.70805020110221), ('မုန်းလိုက်တာ', 2.70805020110221), ('ဖွင့်ထားနိုင်ပါစေ', 2.70805020110221), ('အမြဲတမ်း', 2.70805020110221), ('စာသင်ကျောင်း', 2.70805020110221), ('တံခါးများ', 2.70805020110221), ('ရခိုင်', 2.70805020110221), ('ရှမ်း', 2.70805020110221), ('ကုတိယို', 2.70805020110221), ('ခေါက်ဆွဲ', 2.70805020110221), ('ကြိုက်တယ်', 2.70805020110221), ('မုန့်တီ', 2.70805020110221), ('ကရင်', 2.70805020110221)])\n"
     ]
    }
   ],
   "source": [
    "## Calculate IDF for the entire corpus\n",
    "idf = compute_idf(df, len(tokenized_dataset))\n",
    "print(f'IDF for entire corpus : {idf.items()}')"
   ]
  },
  {
   "cell_type": "code",
   "execution_count": 39,
   "metadata": {},
   "outputs": [
    {
     "name": "stdout",
     "output_type": "stream",
     "text": [
      "TF-IDF of sample index 0 : {'မြန်မာ': 0.2878432886488949, 'ပြည်': 0.3868643144431728, 'ရှေ့ရေး': 0.3868643144431728, 'အကြောင်း': 0.3868643144431728, 'ဆွေးနွေးသွားတာ': 0.3868643144431728, 'အရမ်း': 0.15694461266687282, 'ကောင်းတယ်': 0.3868643144431728}\n"
     ]
    }
   ],
   "source": [
    "## Calculate TF-IDF for the entire corpus\n",
    "tfidf_dataset = [compute_tfidf(tf, idf) for tf in tf_dataset]\n",
    "print(f'TF-IDF of sample index 0 : {tfidf_dataset[0]}')"
   ]
  },
  {
   "cell_type": "code",
   "execution_count": 40,
   "metadata": {},
   "outputs": [
    {
     "name": "stdout",
     "output_type": "stream",
     "text": [
      "Vocab Size : 70\n",
      "10th Sample : ပြည်ထောင်စု သမ္မတ မြန်မာ နိုင်ငံတော် ထာဝရ တည်တံ့နိုင်ပါစေ။\n",
      "TF-IDF Features 10th sample : [0.0, 0.0, 0.0, 0.0, 0.0, 0.0, 0.3358171700903774, 0.0, 0.0, 0.0, 0.0, 0.0, 0.0, 0.0, 0.0, 0.0, 0.0, 0.0, 0.0, 0.0, 0.0, 0.0, 0.0, 0.0, 0.0, 0.0, 0.0, 0.0, 0.0, 0.0, 0.0, 0.0, 0.0, 0.0, 0.0, 0.0, 0.0, 0.0, 0.0, 0.0, 0.0, 0.0, 0.0, 0.0, 0.0, 0.0, 0.0, 0.4513417001837017, 0.4513417001837017, 0.3358171700903774, 0.4513417001837017, 0.4513417001837017, 0.0, 0.0, 0.0, 0.0, 0.0, 0.0, 0.0, 0.0, 0.0, 0.0, 0.0, 0.0, 0.0, 0.0, 0.0, 0.0, 0.0, 0.0]\n"
     ]
    }
   ],
   "source": [
    "## Convert TF-IDF dictionary to feature vectors\n",
    "vocabulary = list(idf.keys())\n",
    "def vectorize(tfidf, vocab):\n",
    "    return [tfidf.get(term, 0.0) for term in vocab]\n",
    "\n",
    "features = [vectorize(tfidf, vocabulary) for tfidf in tfidf_dataset]\n",
    "print(f'Vocab Size : {vocabulary.__len__()}')\n",
    "print(f'10th Sample : {dataset[10]}')\n",
    "print(f'TF-IDF Features 10th sample : {features[10]}')"
   ]
  },
  {
   "cell_type": "code",
   "execution_count": 44,
   "metadata": {},
   "outputs": [
    {
     "name": "stdout",
     "output_type": "stream",
     "text": [
      "TF-IDF Features of new sentence : [0.0, 0.0, 0.0, 0.0, 0.0, 0.0, 0.0, 0.0, 0.0, 0.0, 0.0, 0.0, 0.0, 0.0, 0.0, 0.0, 0.0, 0.0, 0.0, 0.0, 0.0, 0.0, 0.0, 0.0, 0.0, 0.0, 0.0, 0.0, 0.0, 0.0, 0.0, 0.0, 0.0, 0.0, 0.0, 0.0, 0.0, 0.0, 0.0, 0.0, 0.0, 0.0, 0.0, 0.3868643144431728, 0.0, 0.0, 0.0, 0.0, 0.0, 0.2878432886488949, 0.0, 0.0, 0.0, 0.3868643144431728, 0.3868643144431728, 0.0, 0.0, 0.0, 0.0, 0.0, 0.0, 0.0, 0.0, 0.0, 0.0, 0.0, 0.0, 0.0, 0.0, 0.0]\n"
     ]
    }
   ],
   "source": [
    "## Test on a new sentence\n",
    "new_sentence = \"ပြည်ထောင်စု ဖွား တိုင်းရင်းသားတွေ စိတ် ၏ ငြိမ်းချမ်းမှုကို ရပါစေ။\"\n",
    "\n",
    "## Calculate TF for the new sentence\n",
    "new_tf = compute_tf(new_sentence.replace('၊', '').replace('။', '').lower().split())\n",
    "\n",
    "## Calculate TF-IDF for the new sentence using the IDF from the training data\n",
    "new_tfidf = compute_tfidf(new_tf, idf)\n",
    "\n",
    "## Vectorize the new sentence TF-IDF\n",
    "new_vector = vectorize(new_tfidf, vocabulary)\n",
    "print(f'TF-IDF Features of new sentence : {new_vector}')"
   ]
  },
  {
   "cell_type": "code",
   "execution_count": 46,
   "metadata": {},
   "outputs": [
    {
     "name": "stdout",
     "output_type": "stream",
     "text": [
      "Cosine Similarity: 0.11277593017562931\n"
     ]
    }
   ],
   "source": [
    "## Classifier\n",
    "def cosine_similarity(A, B):\n",
    "    dot_product = np.dot(A, B)\n",
    "    norm_A = np.linalg.norm(A)\n",
    "    norm_B = np.linalg.norm(B)\n",
    "    return dot_product / (norm_A * norm_B)\n",
    "\n",
    "similarity = cosine_similarity(features[10], features[11])\n",
    "print(\"Cosine Similarity:\", similarity)"
   ]
  },
  {
   "cell_type": "code",
   "execution_count": 49,
   "metadata": {},
   "outputs": [
    {
     "name": "stdout",
     "output_type": "stream",
     "text": [
      "Predicted Label : Negative\n"
     ]
    }
   ],
   "source": [
    "## Inference\n",
    "test = \"မင်းဆိုး မင်းညစ် အယုတ်တမာ တို့သည် ကျရှုံးကြစမြဲ ဖြစ်သည်။\"\n",
    "test_tf = compute_tf(test.lower().split())\n",
    "test_tfidf = compute_tfidf(test_tf, idf)\n",
    "test_vector = vectorize(test_tfidf, vocabulary)\n",
    "preds = [cosine_similarity(source, test_vector) for source in features]\n",
    "idx = encoded_labels[np.argmax(preds)]\n",
    "print(f'Predicted Label : {label_encoder.classes_[idx]}')"
   ]
  }
 ],
 "metadata": {
  "kernelspec": {
   "display_name": "MyEnv",
   "language": "python",
   "name": "python3"
  },
  "language_info": {
   "codemirror_mode": {
    "name": "ipython",
    "version": 3
   },
   "file_extension": ".py",
   "mimetype": "text/x-python",
   "name": "python",
   "nbconvert_exporter": "python",
   "pygments_lexer": "ipython3",
   "version": "3.10.11"
  }
 },
 "nbformat": 4,
 "nbformat_minor": 2
}
