{
 "cells": [
  {
   "cell_type": "code",
   "execution_count": 3,
   "metadata": {},
   "outputs": [
    {
     "name": "stdout",
     "output_type": "stream",
     "text": [
      "Encoded Labels: [2 2 2 2 2 0 0 0 0 0 1 1 1 1 1]\n",
      "Classes: ['Negative' 'Neutral' 'Positive']\n"
     ]
    }
   ],
   "source": [
    "import math\n",
    "import numpy as np\n",
    "from sklearn.preprocessing import LabelEncoder \n",
    "from collections import Counter\n",
    "\n",
    "## Dataset preparation\n",
    "dataset = [\n",
    "    \"မြန်မာ ပြည် ရှေ့ရေး အကြောင်း ဆွေးနွေးသွားတာ အရမ်း ကောင်းတယ်။\", \n",
    "    \"အရမ်း မှန်တဲ့ စကားတွေပါ။ ကျေးဇူး တင်ပါတယ်။\", \n",
    "    \"တန်ဖိုး ရှိတဲ့ စကားတွေပါ။ လေးစားပါတယ်။\", \n",
    "    \"သုံးသပ်သွားတာ ကောင်းလိုက်တာ။ အရမ်း ဗဟုသုတ ရတယ်။\", \n",
    "    \"ကျေးဇူးပါ ဆရာ သုံးသပ်ချက် တွေကို ကျေနပ် အားရပါတယ်။\", \n",
    "\n",
    "    \"မင်းဆိုး မင်းညစ် အယုတ်တမာ ကျဆုံးမှာပါ။\", \n",
    "    \"ကလိမ်ကကျစ် နဲ့ စကား ကို ဝေ့ဝိုက်ပြီး ပြောနေတယ်။\", \n",
    "    \"မိုက်ရိုက်လိုက်တဲ့ လုပ်ရပ်ဗျာ။ အတော် ဆိုးတာပဲ။\", \n",
    "    \"ကျက်သရေ တုံးပါကွာ။ အရည်အချင်းကို မရှိဘူး။\", \n",
    "    \"မင်းကို မြင်ရတာ စိတ် ကသိကအောက် ဖြစ်တယ်။\", \n",
    "\n",
    "    \"ပြည်ထောင်စု သမ္မတ မြန်မာ နိုင်ငံတော် ထာဝရ တည်တံ့နိုင်ပါစေ။\", \n",
    "    \"ပြည်ထောင်စု ဖွား တိုင်းရင်းသားတွေ စုစည်းနေရင် အရမ်း ကောင်းမှာပဲ။\", \n",
    "    \"စစ်ပွဲတွေ ကို မုန်းလိုက်တာ ဗျာ။\", \n",
    "    \"စာသင်ကျောင်း တံခါးများ အမြဲတမ်း ဖွင့်ထားနိုင်ပါစေ။\", \n",
    "    \"ရခိုင် မုန့်တီ၊ ရှမ်း ခေါက်ဆွဲ နဲ့ ကရင် ကုတိယို ကို အရမ်း ကြိုက်တယ်။\" \n",
    "]\n",
    "\n",
    "targets = [\"Positive\", \"Positive\", \"Positive\", \"Positive\", \"Positive\", \n",
    "\"Negative\", \"Negative\", \"Negative\", \"Negative\", \"Negative\", \"Neutral\", \n",
    "\"Neutral\", \"Neutral\", \"Neutral\", \"Neutral\"] \n",
    "\n",
    "## Label Encoder \n",
    "label_encoder = LabelEncoder() \n",
    "encoded_labels = label_encoder.fit_transform(targets) \n",
    "print(\"Encoded Labels:\", encoded_labels) \n",
    "print(\"Classes:\", label_encoder.classes_) "
   ]
  },
  {
   "cell_type": "code",
   "execution_count": 4,
   "metadata": {},
   "outputs": [
    {
     "name": "stdout",
     "output_type": "stream",
     "text": [
      "Bigrams (1-5): [['မြန်မာ ပြည်', 'ပြည် ရှေ့ရေး', 'ရှေ့ရေး အကြောင်း', 'အကြောင်း ဆွေးနွေးသွားတာ', 'ဆွေးနွေးသွားတာ အရမ်း', 'အရမ်း ကောင်းတယ်။'], ['အရမ်း မှန်တဲ့', 'မှန်တဲ့ စကားတွေပါ။', 'စကားတွေပါ။ ကျေးဇူး', 'ကျေးဇူး တင်ပါတယ်။'], ['တန်ဖိုး ရှိတဲ့', 'ရှိတဲ့ စကားတွေပါ။', 'စကားတွေပါ။ လေးစားပါတယ်။'], ['သုံးသပ်သွားတာ ကောင်းလိုက်တာ။', 'ကောင်းလိုက်တာ။ အရမ်း', 'အရမ်း ဗဟုသုတ', 'ဗဟုသုတ ရတယ်။'], ['ကျေးဇူးပါ ဆရာ', 'ဆရာ သုံးသပ်ချက်', 'သုံးသပ်ချက် တွေကို', 'တွေကို ကျေနပ်', 'ကျေနပ် အားရပါတယ်။']]\n",
      "Trigrams (1-5): [['မြန်မာ ပြည် ရှေ့ရေး', 'ပြည် ရှေ့ရေး အကြောင်း', 'ရှေ့ရေး အကြောင်း ဆွေးနွေးသွားတာ', 'အကြောင်း ဆွေးနွေးသွားတာ အရမ်း', 'ဆွေးနွေးသွားတာ အရမ်း ကောင်းတယ်။'], ['အရမ်း မှန်တဲ့ စကားတွေပါ။', 'မှန်တဲ့ စကားတွေပါ။ ကျေးဇူး', 'စကားတွေပါ။ ကျေးဇူး တင်ပါတယ်။'], ['တန်ဖိုး ရှိတဲ့ စကားတွေပါ။', 'ရှိတဲ့ စကားတွေပါ။ လေးစားပါတယ်။'], ['သုံးသပ်သွားတာ ကောင်းလိုက်တာ။ အရမ်း', 'ကောင်းလိုက်တာ။ အရမ်း ဗဟုသုတ', 'အရမ်း ဗဟုသုတ ရတယ်။'], ['ကျေးဇူးပါ ဆရာ သုံးသပ်ချက်', 'ဆရာ သုံးသပ်ချက် တွေကို', 'သုံးသပ်ချက် တွေကို ကျေနပ်', 'တွေကို ကျေနပ် အားရပါတယ်။']]\n"
     ]
    }
   ],
   "source": [
    "## Function to generate N-grams\n",
    "def generate_ngrams(text, ngrams):\n",
    "    remove_chars = '.,!*@#$%^'\n",
    "    text = text.translate(str.maketrans('', '', remove_chars))\n",
    "    tokens = text.lower().split()\n",
    "    ngrams = [' '.join(tokens[i:i+ngrams]) for i in range(len(tokens)-ngrams+1)]    \n",
    "    return ngrams\n",
    "\n",
    "bigrams = [generate_ngrams(doc, ngrams=2) for doc in dataset]\n",
    "print(\"Bigrams (1-5):\", bigrams[:5])\n",
    "\n",
    "trigrams = [generate_ngrams(doc, ngrams=3) for doc in dataset]\n",
    "print(\"Trigrams (1-5):\", trigrams[:5])"
   ]
  },
  {
   "cell_type": "code",
   "execution_count": 5,
   "metadata": {},
   "outputs": [
    {
     "name": "stdout",
     "output_type": "stream",
     "text": [
      "TF value of index 0 : {'အရမ်း မှန်တဲ့': 0.25, 'မှန်တဲ့ စကားတွေပါ။': 0.25, 'စကားတွေပါ။ ကျေးဇူး': 0.25, 'ကျေးဇူး တင်ပါတယ်။': 0.25}\n"
     ]
    }
   ],
   "source": [
    "## Compute TF for n-grams\n",
    "def compute_tf(ngrams_list):\n",
    "    term_count = Counter(ngrams_list)\n",
    "    doc_len = len(ngrams_list)\n",
    "    tf = {term: count / doc_len for term, count in term_count.items()}\n",
    "    return tf\n",
    "\n",
    "## Calculate TF for the entire corpus \n",
    "tf_dataset = [compute_tf(doc) for doc in bigrams] \n",
    "print(f'TF value of index 0 : {tf_dataset[1]}') "
   ]
  },
  {
   "cell_type": "code",
   "execution_count": 6,
   "metadata": {},
   "outputs": [
    {
     "name": "stdout",
     "output_type": "stream",
     "text": [
      "DF for the entire corpus : Counter({'ဆွေးနွေးသွားတာ အရမ်း': 1, 'မြန်မာ ပြည်': 1, 'အကြောင်း ဆွေးနွေးသွားတာ': 1, 'ပြည် ရှေ့ရေး': 1, 'အရမ်း ကောင်းတယ်။': 1, 'ရှေ့ရေး အကြောင်း': 1, 'မှန်တဲ့ စကားတွေပါ။': 1, 'စကားတွေပါ။ ကျေးဇူး': 1, 'ကျေးဇူး တင်ပါတယ်။': 1, 'အရမ်း မှန်တဲ့': 1, 'တန်ဖိုး ရှိတဲ့': 1, 'စကားတွေပါ။ လေးစားပါတယ်။': 1, 'ရှိတဲ့ စကားတွေပါ။': 1, 'သုံးသပ်သွားတာ ကောင်းလိုက်တာ။': 1, 'ဗဟုသုတ ရတယ်။': 1, 'ကောင်းလိုက်တာ။ အရမ်း': 1, 'အရမ်း ဗဟုသုတ': 1, 'ဆရာ သုံးသပ်ချက်': 1, 'ကျေနပ် အားရပါတယ်။': 1, 'ကျေးဇူးပါ ဆရာ': 1, 'သုံးသပ်ချက် တွေကို': 1, 'တွေကို ကျေနပ်': 1, 'မင်းညစ် အယုတ်တမာ': 1, 'အယုတ်တမာ ကျဆုံးမှာပါ။': 1, 'မင်းဆိုး မင်းညစ်': 1, 'ဝေ့ဝိုက်ပြီး ပြောနေတယ်။': 1, 'ကို ဝေ့ဝိုက်ပြီး': 1, 'နဲ့ စကား': 1, 'ကလိမ်ကကျစ် နဲ့': 1, 'စကား ကို': 1, 'မိုက်ရိုက်လိုက်တဲ့ လုပ်ရပ်ဗျာ။': 1, 'လုပ်ရပ်ဗျာ။ အတော်': 1, 'အတော် ဆိုးတာပဲ။': 1, 'အရည်အချင်းကို မရှိဘူး။': 1, 'ကျက်သရေ တုံးပါကွာ။': 1, 'တုံးပါကွာ။ အရည်အချင်းကို': 1, 'ကသိကအောက် ဖြစ်တယ်။': 1, 'မြင်ရတာ စိတ်': 1, 'မင်းကို မြင်ရတာ': 1, 'စိတ် ကသိကအောက်': 1, 'မြန်မာ နိုင်ငံတော်': 1, 'နိုင်ငံတော် ထာဝရ': 1, 'ထာဝရ တည်တံ့နိုင်ပါစေ။': 1, 'သမ္မတ မြန်မာ': 1, 'ပြည်ထောင်စု သမ္မတ': 1, 'ဖွား တိုင်းရင်းသားတွေ': 1, 'တိုင်းရင်းသားတွေ စုစည်းနေရင်': 1, 'စုစည်းနေရင် အရမ်း': 1, 'အရမ်း ကောင်းမှာပဲ။': 1, 'ပြည်ထောင်စု ဖွား': 1, 'စစ်ပွဲတွေ ကို': 1, 'ကို မုန်းလိုက်တာ': 1, 'မုန်းလိုက်တာ ဗျာ။': 1, 'အမြဲတမ်း ဖွင့်ထားနိုင်ပါစေ။': 1, 'တံခါးများ အမြဲတမ်း': 1, 'စာသင်ကျောင်း တံခါးများ': 1, 'မုန့်တီ၊ ရှမ်း': 1, 'ကုတိယို ကို': 1, 'ခေါက်ဆွဲ နဲ့': 1, 'ရှမ်း ခေါက်ဆွဲ': 1, 'ကရင် ကုတိယို': 1, 'ရခိုင် မုန့်တီ၊': 1, 'ကို အရမ်း': 1, 'နဲ့ ကရင်': 1, 'အရမ်း ကြိုက်တယ်။': 1})\n"
     ]
    }
   ],
   "source": [
    "## Compute DF for the corpus\n",
    "def compute_df(corpus):\n",
    "    df = Counter()\n",
    "    for doc in corpus:     \n",
    "        unique_terms = set(doc)\n",
    "        for term in unique_terms:\n",
    "            df[term] += 1\n",
    "    return df\n",
    "\n",
    "## Calculate DF for the entire corpus \n",
    "df = compute_df(bigrams) \n",
    "print(f'DF for the entire corpus : {df}') "
   ]
  },
  {
   "cell_type": "code",
   "execution_count": 7,
   "metadata": {},
   "outputs": [
    {
     "name": "stdout",
     "output_type": "stream",
     "text": [
      "IDF for entire corpus : dict_items([('ဆွေးနွေးသွားတာ အရမ်း', 2.70805020110221), ('မြန်မာ ပြည်', 2.70805020110221), ('အကြောင်း ဆွေးနွေးသွားတာ', 2.70805020110221), ('ပြည် ရှေ့ရေး', 2.70805020110221), ('အရမ်း ကောင်းတယ်။', 2.70805020110221), ('ရှေ့ရေး အကြောင်း', 2.70805020110221), ('မှန်တဲ့ စကားတွေပါ။', 2.70805020110221), ('စကားတွေပါ။ ကျေးဇူး', 2.70805020110221), ('ကျေးဇူး တင်ပါတယ်။', 2.70805020110221), ('အရမ်း မှန်တဲ့', 2.70805020110221), ('တန်ဖိုး ရှိတဲ့', 2.70805020110221), ('စကားတွေပါ။ လေးစားပါတယ်။', 2.70805020110221), ('ရှိတဲ့ စကားတွေပါ။', 2.70805020110221), ('သုံးသပ်သွားတာ ကောင်းလိုက်တာ။', 2.70805020110221), ('ဗဟုသုတ ရတယ်။', 2.70805020110221), ('ကောင်းလိုက်တာ။ အရမ်း', 2.70805020110221), ('အရမ်း ဗဟုသုတ', 2.70805020110221), ('ဆရာ သုံးသပ်ချက်', 2.70805020110221), ('ကျေနပ် အားရပါတယ်။', 2.70805020110221), ('ကျေးဇူးပါ ဆရာ', 2.70805020110221), ('သုံးသပ်ချက် တွေကို', 2.70805020110221), ('တွေကို ကျေနပ်', 2.70805020110221), ('မင်းညစ် အယုတ်တမာ', 2.70805020110221), ('အယုတ်တမာ ကျဆုံးမှာပါ။', 2.70805020110221), ('မင်းဆိုး မင်းညစ်', 2.70805020110221), ('ဝေ့ဝိုက်ပြီး ပြောနေတယ်။', 2.70805020110221), ('ကို ဝေ့ဝိုက်ပြီး', 2.70805020110221), ('နဲ့ စကား', 2.70805020110221), ('ကလိမ်ကကျစ် နဲ့', 2.70805020110221), ('စကား ကို', 2.70805020110221), ('မိုက်ရိုက်လိုက်တဲ့ လုပ်ရပ်ဗျာ။', 2.70805020110221), ('လုပ်ရပ်ဗျာ။ အတော်', 2.70805020110221), ('အတော် ဆိုးတာပဲ။', 2.70805020110221), ('အရည်အချင်းကို မရှိဘူး။', 2.70805020110221), ('ကျက်သရေ တုံးပါကွာ။', 2.70805020110221), ('တုံးပါကွာ။ အရည်အချင်းကို', 2.70805020110221), ('ကသိကအောက် ဖြစ်တယ်။', 2.70805020110221), ('မြင်ရတာ စိတ်', 2.70805020110221), ('မင်းကို မြင်ရတာ', 2.70805020110221), ('စိတ် ကသိကအောက်', 2.70805020110221), ('မြန်မာ နိုင်ငံတော်', 2.70805020110221), ('နိုင်ငံတော် ထာဝရ', 2.70805020110221), ('ထာဝရ တည်တံ့နိုင်ပါစေ။', 2.70805020110221), ('သမ္မတ မြန်မာ', 2.70805020110221), ('ပြည်ထောင်စု သမ္မတ', 2.70805020110221), ('ဖွား တိုင်းရင်းသားတွေ', 2.70805020110221), ('တိုင်းရင်းသားတွေ စုစည်းနေရင်', 2.70805020110221), ('စုစည်းနေရင် အရမ်း', 2.70805020110221), ('အရမ်း ကောင်းမှာပဲ။', 2.70805020110221), ('ပြည်ထောင်စု ဖွား', 2.70805020110221), ('စစ်ပွဲတွေ ကို', 2.70805020110221), ('ကို မုန်းလိုက်တာ', 2.70805020110221), ('မုန်းလိုက်တာ ဗျာ။', 2.70805020110221), ('အမြဲတမ်း ဖွင့်ထားနိုင်ပါစေ။', 2.70805020110221), ('တံခါးများ အမြဲတမ်း', 2.70805020110221), ('စာသင်ကျောင်း တံခါးများ', 2.70805020110221), ('မုန့်တီ၊ ရှမ်း', 2.70805020110221), ('ကုတိယို ကို', 2.70805020110221), ('ခေါက်ဆွဲ နဲ့', 2.70805020110221), ('ရှမ်း ခေါက်ဆွဲ', 2.70805020110221), ('ကရင် ကုတိယို', 2.70805020110221), ('ရခိုင် မုန့်တီ၊', 2.70805020110221), ('ကို အရမ်း', 2.70805020110221), ('နဲ့ ကရင်', 2.70805020110221), ('အရမ်း ကြိုက်တယ်။', 2.70805020110221)])\n"
     ]
    }
   ],
   "source": [
    "## Compute IDF based on DF\n",
    "def compute_idf(df, corpus_size):\n",
    "    idf = {term: math.log(corpus_size / df[term]) for term in df}\n",
    "    return idf\n",
    "\n",
    "## Calculate IDF for the entire corpus \n",
    "idf = compute_idf(df, len(bigrams)) \n",
    "print(f'IDF for entire corpus : {idf.items()}') "
   ]
  },
  {
   "cell_type": "code",
   "execution_count": 8,
   "metadata": {},
   "outputs": [
    {
     "name": "stdout",
     "output_type": "stream",
     "text": [
      "TF-IDF value of sample index 0 : {'မင်းဆိုး မင်းညစ်': 0.9026834003674034, 'မင်းညစ် အယုတ်တမာ': 0.9026834003674034, 'အယုတ်တမာ ကျဆုံးမှာပါ။': 0.9026834003674034}\n"
     ]
    }
   ],
   "source": [
    "## Compute TF-IDF for a document\n",
    "def compute_tfidf(tf, idf):\n",
    "    tfidf = {term: tf_val * idf.get(term, 0.0) for term, tf_val in tf.items()}\n",
    "    return tfidf\n",
    "\n",
    "## Calculate TF-IDF for the entire corpus \n",
    "tfidf_dataset = [compute_tfidf(tf, idf) for tf in tf_dataset] \n",
    "print(f'TF-IDF value of sample index 0 : {tfidf_dataset[5]}') "
   ]
  },
  {
   "cell_type": "code",
   "execution_count": 9,
   "metadata": {},
   "outputs": [
    {
     "name": "stdout",
     "output_type": "stream",
     "text": [
      "Vocab Size : 65\n",
      "10th Sample : ပြည်ထောင်စု သမ္မတ မြန်မာ နိုင်ငံတော် ထာဝရ တည်တံ့နိုင်ပါစေ။\n",
      "TF-IDF Features 10th sample : [0.0, 0.0, 0.0, 0.0, 0.0, 0.0, 0.0, 0.0, 0.0, 0.0, 0.0, 0.0, 0.0, 0.0, 0.0, 0.0, 0.0, 0.0, 0.0, 0.0, 0.0, 0.0, 0.0, 0.0, 0.0, 0.0, 0.0, 0.0, 0.0, 0.0, 0.0, 0.0, 0.0, 0.0, 0.0, 0.0, 0.0, 0.0, 0.0, 0.0, 0.541610040220442, 0.541610040220442, 0.541610040220442, 0.541610040220442, 0.541610040220442, 0.0, 0.0, 0.0, 0.0, 0.0, 0.0, 0.0, 0.0, 0.0, 0.0, 0.0, 0.0, 0.0, 0.0, 0.0, 0.0, 0.0, 0.0, 0.0, 0.0]\n"
     ]
    }
   ],
   "source": [
    "## Convert TF-IDF dictionary to feature vectors \n",
    "vocabulary = list(idf.keys()) \n",
    "def vectorize(tfidf, vocab): \n",
    "    return [tfidf.get(term, 0.0) for term in vocab] \n",
    " \n",
    "features = [vectorize(tfidf, vocabulary) for tfidf in tfidf_dataset] \n",
    "print(f'Vocab Size : {vocabulary.__len__()}') \n",
    "print(f'10th Sample : {dataset[10]}') \n",
    "print(f'TF-IDF Features 10th sample : {features[10]}') "
   ]
  },
  {
   "cell_type": "code",
   "execution_count": 10,
   "metadata": {},
   "outputs": [
    {
     "name": "stdout",
     "output_type": "stream",
     "text": [
      "Cosine Similarity: 0.0\n"
     ]
    }
   ],
   "source": [
    "## Classifier \n",
    "def cosine_similarity(A, B): \n",
    "    dot_product = np.dot(A, B) \n",
    "    norm_A = np.linalg.norm(A) \n",
    "    norm_B = np.linalg.norm(B) \n",
    "    return dot_product / (norm_A * norm_B) \n",
    "\n",
    "similarity = cosine_similarity(features[1], features[2]) \n",
    "print(\"Cosine Similarity:\", similarity) "
   ]
  },
  {
   "cell_type": "code",
   "execution_count": 14,
   "metadata": {},
   "outputs": [
    {
     "name": "stdout",
     "output_type": "stream",
     "text": [
      "Original : မင်းကို မြင်ရတာ စိတ် ကသိကအောက် ဖြစ်တယ်။\n",
      "Bigrams : ['မင်းကို မြင်ရတာ', 'မြင်ရတာ စိတ်', 'စိတ် ကသိကအောက်', 'ကသိကအောက် ဖြစ်တယ်။']\n",
      "Prediction : Negative\n"
     ]
    }
   ],
   "source": [
    "## Inference \n",
    "test = \"မင်းကို မြင်ရတာ စိတ် ကသိကအောက် ဖြစ်တယ်။\"\n",
    "test_bigrams = generate_ngrams(test, ngrams=2)\n",
    "test_tf = compute_tf(test_bigrams) \n",
    "test_tfidf = compute_tfidf(test_tf, idf) \n",
    "test_vector = vectorize(test_tfidf, vocabulary) \n",
    "preds = [cosine_similarity(source, test_vector) for source in features] \n",
    "idx = encoded_labels[np.argmax(preds)] \n",
    "\n",
    "print(\"Original :\", test)\n",
    "print(\"Bigrams :\", test_bigrams)\n",
    "print(\"Prediction :\", label_encoder.classes_[idx]) "
   ]
  }
 ],
 "metadata": {
  "kernelspec": {
   "display_name": "MyEnv",
   "language": "python",
   "name": "python3"
  },
  "language_info": {
   "codemirror_mode": {
    "name": "ipython",
    "version": 3
   },
   "file_extension": ".py",
   "mimetype": "text/x-python",
   "name": "python",
   "nbconvert_exporter": "python",
   "pygments_lexer": "ipython3",
   "version": "3.10.11"
  }
 },
 "nbformat": 4,
 "nbformat_minor": 2
}
