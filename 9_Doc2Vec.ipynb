{
 "cells": [
  {
   "cell_type": "code",
   "execution_count": 21,
   "metadata": {},
   "outputs": [
    {
     "name": "stdout",
     "output_type": "stream",
     "text": [
      "Dataset length : 15\n"
     ]
    }
   ],
   "source": [
    "import numpy as np\n",
    "from gensim.models.doc2vec import Doc2Vec, TaggedDocument\n",
    "\n",
    "## Dataset and targets\n",
    "dataset = [\n",
    "    \"သူမသည် ဖျက်သိမ်း စာကို ဖတ်နေစဉ် မျက်ရည်များ စီးကျလို့ နေသည်။\",\n",
    "    \"အခန်းသည် သူမ မရှိခြင်းကြောင့် တိတ်ဆိတ်မှု တို့ဖြင့် လွှမ်းမိုး စေခဲ့သည်။\",\n",
    "    \"သူသည် အလင်း မရှိသော နေရာတွင် တစ်ယောက်တည်း ထိုင်ပြီး ဝမ်းနည်းမှု ၏ အငွေ့အသက်ကို ခံစား နေသည်။\",\n",
    "    \"သူမ၏ နှလုံးသားသည် မပြောလိုက်သော စကားများ၏ နာကျင်မှု ကြောင့် ဝမ်းနည်း နေသည်။\",\n",
    "    \"မိုးသည် သူမ၏ စိတ်ခံစားချက်ကို စာနာပြီး ဝမ်းနည်းစွာ ကောင်းကင်မှ မျက်ရည်စက်များ အဖြစ် ရွာချပေးလို့ နေသည်။\",\n",
    "\n",
    "    \"သူ၏ အပြုံးက တစ်ခန်းလုံးကို ထွန်းလင်းစေပြီး သူမ၏ နှလုံးသားကို ပူနွေး စေခဲ့သည်။\",\n",
    "    \"သူမနှင့် တွေ့ဆုံတိုင်း ခံစားချက် တို့သည် အိမ်မက် တစ်ခု အလား အလွန်ပင် သာယာလှပလို့ နေသည်။\",\n",
    "    \"အချစ်၏ စွမ်းအား တို့သည် ချစ်သူ နှစ်ဦး ကြားရှိ အကွာအဝေးကို ဖျက်ဆီးပစ်နိုင်သည်။\",\n",
    "    \"အချစ်သည် သက်တမ်းမဲ့ တန်ခိုး တစ်ခု ဖြစ်ပြီး နှလုံးသားများကို နူးညံ့စေသည်။\",\n",
    "    \"အချစ်ကို သန့်ရှင်းစွာ ထိန်းသိမ်းနိုင်ပါက ဘဝ၏ အလှတရားကို ခံစားရမည်။\",\n",
    "\n",
    "    \"သူ၏ လက်သီးကို ကျစ်ကျစ် ဆုတ်ထားပြီး ရန်ငြိုးကို ထိန်းထားရန် ကြိုးစားနေသည်။\",\n",
    "    \"သူမသည် တံခါးကို ပိတ်ချပြီး ဆူညံစွာ အော်ဟစ်လို့ နေသည်။\",\n",
    "    \"သူ၏ မျက်လုံးများတွင် ဒေါသ စိတ် တို့ဖြင့် မီးဟုန်းဟုန်း လောင်နေသည်။\",\n",
    "    \"အငြင်းပွားမှု သည် မာနကြောင့် တိုး၍ တိုး၍ လာသည်။\",\n",
    "    \"သူမ၏ အသံသည် စိတ်ဆိုးမှု ကြောင့် တုန်လှုပ်နေပြီး စူးစိမ့် လှသည်။\"\n",
    "]\n",
    "targets = [\"Sadness\", \"Sadness\", \"Sadness\", \"Sadness\", \"Sadness\", \"Love\", \"Love\", \"Love\", \"Love\", \"Love\", \"Anger\", \"Anger\", \"Anger\", \"Anger\", \"Anger\"]\n",
    "print(f'Dataset length : {dataset.__len__()}')"
   ]
  },
  {
   "cell_type": "code",
   "execution_count": 22,
   "metadata": {},
   "outputs": [
    {
     "data": {
      "text/plain": [
       "[TaggedDocument(words=['သူမသည်', 'ဖျက်သိမ်း', 'စာကို', 'ဖတ်နေစဉ်', 'မျက်ရည်များ', 'စီးကျလို့', 'နေသည်။'], tags=['0']),\n",
       " TaggedDocument(words=['အခန်းသည်', 'သူမ', 'မရှိခြင်းကြောင့်', 'တိတ်ဆိတ်မှု', 'တို့ဖြင့်', 'လွှမ်းမိုး', 'စေခဲ့သည်။'], tags=['1']),\n",
       " TaggedDocument(words=['သူသည်', 'အလင်း', 'မရှိသော', 'နေရာတွင်', 'တစ်ယောက်တည်း', 'ထိုင်ပြီး', 'ဝမ်းနည်းမှု', '၏', 'အငွေ့အသက်ကို', 'ခံစား', 'နေသည်။'], tags=['2']),\n",
       " TaggedDocument(words=['သူမ၏', 'နှလုံးသားသည်', 'မပြောလိုက်သော', 'စကားများ၏', 'နာကျင်မှု', 'ကြောင့်', 'ဝမ်းနည်း', 'နေသည်။'], tags=['3']),\n",
       " TaggedDocument(words=['မိုးသည်', 'သူမ၏', 'စိတ်ခံစားချက်ကို', 'စာနာပြီး', 'ဝမ်းနည်းစွာ', 'ကောင်းကင်မှ', 'မျက်ရည်စက်များ', 'အဖြစ်', 'ရွာချပေးလို့', 'နေသည်။'], tags=['4']),\n",
       " TaggedDocument(words=['သူ၏', 'အပြုံးက', 'တစ်ခန်းလုံးကို', 'ထွန်းလင်းစေပြီး', 'သူမ၏', 'နှလုံးသားကို', 'ပူနွေး', 'စေခဲ့သည်။'], tags=['5']),\n",
       " TaggedDocument(words=['သူမနှင့်', 'တွေ့ဆုံတိုင်း', 'ခံစားချက်', 'တို့သည်', 'အိမ်မက်', 'တစ်ခု', 'အလား', 'အလွန်ပင်', 'သာယာလှပလို့', 'နေသည်။'], tags=['6']),\n",
       " TaggedDocument(words=['အချစ်၏', 'စွမ်းအား', 'တို့သည်', 'ချစ်သူ', 'နှစ်ဦး', 'ကြားရှိ', 'အကွာအဝေးကို', 'ဖျက်ဆီးပစ်နိုင်သည်။'], tags=['7']),\n",
       " TaggedDocument(words=['အချစ်သည်', 'သက်တမ်းမဲ့', 'တန်ခိုး', 'တစ်ခု', 'ဖြစ်ပြီး', 'နှလုံးသားများကို', 'နူးညံ့စေသည်။'], tags=['8']),\n",
       " TaggedDocument(words=['အချစ်ကို', 'သန့်ရှင်းစွာ', 'ထိန်းသိမ်းနိုင်ပါက', 'ဘဝ၏', 'အလှတရားကို', 'ခံစားရမည်။'], tags=['9']),\n",
       " TaggedDocument(words=['သူ၏', 'လက်သီးကို', 'ကျစ်ကျစ်', 'ဆုတ်ထားပြီး', 'ရန်ငြိုးကို', 'ထိန်းထားရန်', 'ကြိုးစားနေသည်။'], tags=['10']),\n",
       " TaggedDocument(words=['သူမသည်', 'တံခါးကို', 'ပိတ်ချပြီး', 'ဆူညံစွာ', 'အော်ဟစ်လို့', 'နေသည်။'], tags=['11']),\n",
       " TaggedDocument(words=['သူ၏', 'မျက်လုံးများတွင်', 'ဒေါသ', 'စိတ်', 'တို့ဖြင့်', 'မီးဟုန်းဟုန်း', 'လောင်နေသည်။'], tags=['12']),\n",
       " TaggedDocument(words=['အငြင်းပွားမှု', 'သည်', 'မာနကြောင့်', 'တိုး၍', 'တိုး၍', 'လာသည်။'], tags=['13']),\n",
       " TaggedDocument(words=['သူမ၏', 'အသံသည်', 'စိတ်ဆိုးမှု', 'ကြောင့်', 'တုန်လှုပ်နေပြီး', 'စူးစိမ့်', 'လှသည်။'], tags=['14'])]"
      ]
     },
     "execution_count": 22,
     "metadata": {},
     "output_type": "execute_result"
    }
   ],
   "source": [
    "## Tagging the dataset for Doc2Vec\n",
    "tagged_data = [TaggedDocument(words=sentence.lower().split(), tags=[str(i)]) for i, sentence in enumerate(dataset)]\n",
    "tagged_data"
   ]
  },
  {
   "cell_type": "code",
   "execution_count": 36,
   "metadata": {},
   "outputs": [],
   "source": [
    "## Train Custom Doc2Vec model\n",
    "doc2vec_model = Doc2Vec(vector_size=30, window=2, min_count=1, workers=4, dm=1, epochs=100)\n",
    "doc2vec_model.build_vocab(tagged_data)\n",
    "doc2vec_model.train(tagged_data, total_examples=doc2vec_model.corpus_count, epochs=doc2vec_model.epochs)\n",
    "\n",
    "## Save the trained Doc2Vec model\n",
    "doc2vec_model.save(\"custom_doc2vec_model.model\")"
   ]
  },
  {
   "cell_type": "code",
   "execution_count": 37,
   "metadata": {},
   "outputs": [
    {
     "name": "stdout",
     "output_type": "stream",
     "text": [
      "Embedding Features of 'သူမသည် ဖျက်သိမ်း စာကို ဖတ်နေစဉ် မျက်ရည်များ စီးကျလို့ နေသည်။' is \n",
      "[-0.02026656  0.1201477  -0.01270954  0.01859172 -0.04724787  0.06494036\n",
      " -0.04787865 -0.01740882 -0.06648786 -0.01289667 -0.03023682 -0.0230197\n",
      "  0.00096032 -0.00422284 -0.08408213 -0.03425321  0.02003929  0.01225853\n",
      " -0.041527    0.05830262 -0.05317615  0.00774964 -0.05512797  0.01986281\n",
      "  0.06854073  0.07103446 -0.00292627  0.0020285   0.0352282  -0.05921512]\n"
     ]
    }
   ],
   "source": [
    "## Load the saved Doc2Vec model\n",
    "model = Doc2Vec.load(\"custom_doc2vec_model.model\")\n",
    "\n",
    "## Sentence Embedding \n",
    "features_vector = model.infer_vector(tagged_data[0].words)\n",
    "print(f\"Embedding Features of '{dataset[0]}' is \\n{features_vector}\")"
   ]
  },
  {
   "cell_type": "code",
   "execution_count": 47,
   "metadata": {},
   "outputs": [
    {
     "name": "stdout",
     "output_type": "stream",
     "text": [
      "Generating Features of 'သူ၏ လက်သီးကို ကျစ်ကျစ် ဆုတ်ထားပြီး ရန်ငြိုးကို ထိန်းထားရန် ကြိုးစားနေသည်။' is \n",
      "[-0.016764    0.12823741 -0.00327909  0.01362085 -0.06041004  0.05953676\n",
      " -0.04168034 -0.00215643 -0.04675612 -0.01830405 -0.0496784  -0.01052557\n",
      "  0.00032764  0.0005732  -0.10355983 -0.02443517  0.03125461 -0.00235955\n",
      " -0.03558502  0.05619299 -0.05195765 -0.02300675 -0.05608359  0.03894787\n",
      "  0.08876357  0.0710205   0.00546087  0.03317242  0.0500906  -0.0735768 ]\n"
     ]
    }
   ],
   "source": [
    "## Generate document embeddings\n",
    "features = [model.infer_vector(sentence.lower().split()) for sentence in dataset]\n",
    "print(f\"Generating Features of '{dataset[10]}' is \\n{features[10]}\")"
   ]
  },
  {
   "cell_type": "code",
   "execution_count": 48,
   "metadata": {},
   "outputs": [
    {
     "name": "stdout",
     "output_type": "stream",
     "text": [
      "Cosine Similarity: 0.9706374\n"
     ]
    }
   ],
   "source": [
    "## Classifier\n",
    "def cosine_similarity(A, B):\n",
    "    dot_product = np.dot(A, B)\n",
    "    norm_A = np.linalg.norm(A)\n",
    "    norm_B = np.linalg.norm(B)\n",
    "    return dot_product / (norm_A * norm_B)\n",
    "\n",
    "## Test cosine similarity between two sentences\n",
    "similarity = cosine_similarity(features[1], features[2])\n",
    "print(\"Cosine Similarity:\", similarity)"
   ]
  },
  {
   "cell_type": "code",
   "execution_count": 55,
   "metadata": {},
   "outputs": [
    {
     "name": "stdout",
     "output_type": "stream",
     "text": [
      "Prediction : Sadness\n"
     ]
    }
   ],
   "source": [
    "## Inference\n",
    "test = \"သူမသည် ဖျက်သိမ်း စာကို ဖတ်နေစဉ် မျက်ရည်များ စီးကျလို့ နေသည်။\"\n",
    "test_vector = model.infer_vector(test.lower().split())\n",
    "preds = [cosine_similarity(source, test_vector) for source in features]\n",
    "pred = targets[np.argmax(preds)]\n",
    "print(\"Prediction :\", pred)"
   ]
  }
 ],
 "metadata": {
  "kernelspec": {
   "display_name": "MyEnv",
   "language": "python",
   "name": "python3"
  },
  "language_info": {
   "codemirror_mode": {
    "name": "ipython",
    "version": 3
   },
   "file_extension": ".py",
   "mimetype": "text/x-python",
   "name": "python",
   "nbconvert_exporter": "python",
   "pygments_lexer": "ipython3",
   "version": "3.10.11"
  }
 },
 "nbformat": 4,
 "nbformat_minor": 2
}
